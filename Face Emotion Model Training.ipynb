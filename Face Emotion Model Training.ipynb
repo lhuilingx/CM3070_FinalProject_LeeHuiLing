{
 "cells": [
  {
   "cell_type": "markdown",
   "id": "a2848bc2-0ffd-4bf2-80ec-5c03ce77486a",
   "metadata": {},
   "source": [
    "# Loading the Libraries"
   ]
  },
  {
   "cell_type": "code",
   "execution_count": 1,
   "id": "0ecd6515-7973-4bae-a454-453d9f8e998f",
   "metadata": {},
   "outputs": [],
   "source": [
    "import tensorflow as tf\n",
    "import numpy as np\n",
    "import matplotlib.pyplot as plt"
   ]
  },
  {
   "cell_type": "markdown",
   "id": "f21e6c27-6d9f-484d-bbd2-6bbcf781b00a",
   "metadata": {},
   "source": [
    "# Loading the dataset"
   ]
  },
  {
   "cell_type": "code",
   "execution_count": 2,
   "id": "7eebffba-a1f4-40f5-a486-81d52e0ff5c6",
   "metadata": {},
   "outputs": [
    {
     "ename": "NotFoundError",
     "evalue": "Could not find directory Face Emotions/refined",
     "output_type": "error",
     "traceback": [
      "\u001b[1;31m---------------------------------------------------------------------------\u001b[0m",
      "\u001b[1;31mNotFoundError\u001b[0m                             Traceback (most recent call last)",
      "\u001b[1;32m~\\AppData\\Local\\Temp\\ipykernel_10748\\2341328681.py\u001b[0m in \u001b[0;36m<module>\u001b[1;34m\u001b[0m\n\u001b[1;32m----> 1\u001b[1;33m train_data, val_data = tf.keras.utils.image_dataset_from_directory(directory=\"Face Emotions/refined\",\n\u001b[0m\u001b[0;32m      2\u001b[0m                                             \u001b[0mcolor_mode\u001b[0m\u001b[1;33m=\u001b[0m\u001b[1;34m\"rgb\"\u001b[0m\u001b[1;33m,\u001b[0m\u001b[1;33m\u001b[0m\u001b[1;33m\u001b[0m\u001b[0m\n\u001b[0;32m      3\u001b[0m                                             \u001b[0mlabel_mode\u001b[0m\u001b[1;33m=\u001b[0m\u001b[1;34m\"categorical\"\u001b[0m\u001b[1;33m,\u001b[0m\u001b[1;33m\u001b[0m\u001b[1;33m\u001b[0m\u001b[0m\n\u001b[0;32m      4\u001b[0m                                             \u001b[0mbatch_size\u001b[0m\u001b[1;33m=\u001b[0m\u001b[1;36m32\u001b[0m\u001b[1;33m,\u001b[0m\u001b[1;33m\u001b[0m\u001b[1;33m\u001b[0m\u001b[0m\n\u001b[0;32m      5\u001b[0m                                             \u001b[0mimage_size\u001b[0m\u001b[1;33m=\u001b[0m\u001b[1;33m(\u001b[0m\u001b[1;36m48\u001b[0m\u001b[1;33m,\u001b[0m \u001b[1;36m48\u001b[0m\u001b[1;33m)\u001b[0m\u001b[1;33m,\u001b[0m\u001b[1;33m\u001b[0m\u001b[1;33m\u001b[0m\u001b[0m\n",
      "\u001b[1;32m~\\anaconda3\\lib\\site-packages\\keras\\utils\\image_dataset.py\u001b[0m in \u001b[0;36mimage_dataset_from_directory\u001b[1;34m(directory, labels, label_mode, class_names, color_mode, batch_size, image_size, shuffle, seed, validation_split, subset, interpolation, follow_links, crop_to_aspect_ratio, **kwargs)\u001b[0m\n\u001b[0;32m    205\u001b[0m     \u001b[1;32mif\u001b[0m \u001b[0mseed\u001b[0m \u001b[1;32mis\u001b[0m \u001b[1;32mNone\u001b[0m\u001b[1;33m:\u001b[0m\u001b[1;33m\u001b[0m\u001b[1;33m\u001b[0m\u001b[0m\n\u001b[0;32m    206\u001b[0m         \u001b[0mseed\u001b[0m \u001b[1;33m=\u001b[0m \u001b[0mnp\u001b[0m\u001b[1;33m.\u001b[0m\u001b[0mrandom\u001b[0m\u001b[1;33m.\u001b[0m\u001b[0mrandint\u001b[0m\u001b[1;33m(\u001b[0m\u001b[1;36m1e6\u001b[0m\u001b[1;33m)\u001b[0m\u001b[1;33m\u001b[0m\u001b[1;33m\u001b[0m\u001b[0m\n\u001b[1;32m--> 207\u001b[1;33m     image_paths, labels, class_names = dataset_utils.index_directory(\n\u001b[0m\u001b[0;32m    208\u001b[0m         \u001b[0mdirectory\u001b[0m\u001b[1;33m,\u001b[0m\u001b[1;33m\u001b[0m\u001b[1;33m\u001b[0m\u001b[0m\n\u001b[0;32m    209\u001b[0m         \u001b[0mlabels\u001b[0m\u001b[1;33m,\u001b[0m\u001b[1;33m\u001b[0m\u001b[1;33m\u001b[0m\u001b[0m\n",
      "\u001b[1;32m~\\anaconda3\\lib\\site-packages\\keras\\utils\\dataset_utils.py\u001b[0m in \u001b[0;36mindex_directory\u001b[1;34m(directory, labels, formats, class_names, shuffle, seed, follow_links)\u001b[0m\n\u001b[0;32m    532\u001b[0m     \u001b[1;32melse\u001b[0m\u001b[1;33m:\u001b[0m\u001b[1;33m\u001b[0m\u001b[1;33m\u001b[0m\u001b[0m\n\u001b[0;32m    533\u001b[0m         \u001b[0msubdirs\u001b[0m \u001b[1;33m=\u001b[0m \u001b[1;33m[\u001b[0m\u001b[1;33m]\u001b[0m\u001b[1;33m\u001b[0m\u001b[1;33m\u001b[0m\u001b[0m\n\u001b[1;32m--> 534\u001b[1;33m         \u001b[1;32mfor\u001b[0m \u001b[0msubdir\u001b[0m \u001b[1;32min\u001b[0m \u001b[0msorted\u001b[0m\u001b[1;33m(\u001b[0m\u001b[0mtf\u001b[0m\u001b[1;33m.\u001b[0m\u001b[0mio\u001b[0m\u001b[1;33m.\u001b[0m\u001b[0mgfile\u001b[0m\u001b[1;33m.\u001b[0m\u001b[0mlistdir\u001b[0m\u001b[1;33m(\u001b[0m\u001b[0mdirectory\u001b[0m\u001b[1;33m)\u001b[0m\u001b[1;33m)\u001b[0m\u001b[1;33m:\u001b[0m\u001b[1;33m\u001b[0m\u001b[1;33m\u001b[0m\u001b[0m\n\u001b[0m\u001b[0;32m    535\u001b[0m             \u001b[1;32mif\u001b[0m \u001b[0mtf\u001b[0m\u001b[1;33m.\u001b[0m\u001b[0mio\u001b[0m\u001b[1;33m.\u001b[0m\u001b[0mgfile\u001b[0m\u001b[1;33m.\u001b[0m\u001b[0misdir\u001b[0m\u001b[1;33m(\u001b[0m\u001b[0mtf\u001b[0m\u001b[1;33m.\u001b[0m\u001b[0mio\u001b[0m\u001b[1;33m.\u001b[0m\u001b[0mgfile\u001b[0m\u001b[1;33m.\u001b[0m\u001b[0mjoin\u001b[0m\u001b[1;33m(\u001b[0m\u001b[0mdirectory\u001b[0m\u001b[1;33m,\u001b[0m \u001b[0msubdir\u001b[0m\u001b[1;33m)\u001b[0m\u001b[1;33m)\u001b[0m\u001b[1;33m:\u001b[0m\u001b[1;33m\u001b[0m\u001b[1;33m\u001b[0m\u001b[0m\n\u001b[0;32m    536\u001b[0m                 \u001b[1;32mif\u001b[0m \u001b[0msubdir\u001b[0m\u001b[1;33m.\u001b[0m\u001b[0mendswith\u001b[0m\u001b[1;33m(\u001b[0m\u001b[1;34m\"/\"\u001b[0m\u001b[1;33m)\u001b[0m\u001b[1;33m:\u001b[0m\u001b[1;33m\u001b[0m\u001b[1;33m\u001b[0m\u001b[0m\n",
      "\u001b[1;32m~\\anaconda3\\lib\\site-packages\\tensorflow\\python\\lib\\io\\file_io.py\u001b[0m in \u001b[0;36mlist_directory_v2\u001b[1;34m(path)\u001b[0m\n\u001b[0;32m    766\u001b[0m   \"\"\"\n\u001b[0;32m    767\u001b[0m   \u001b[1;32mif\u001b[0m \u001b[1;32mnot\u001b[0m \u001b[0mis_directory\u001b[0m\u001b[1;33m(\u001b[0m\u001b[0mpath\u001b[0m\u001b[1;33m)\u001b[0m\u001b[1;33m:\u001b[0m\u001b[1;33m\u001b[0m\u001b[1;33m\u001b[0m\u001b[0m\n\u001b[1;32m--> 768\u001b[1;33m     raise errors.NotFoundError(\n\u001b[0m\u001b[0;32m    769\u001b[0m         \u001b[0mnode_def\u001b[0m\u001b[1;33m=\u001b[0m\u001b[1;32mNone\u001b[0m\u001b[1;33m,\u001b[0m\u001b[1;33m\u001b[0m\u001b[1;33m\u001b[0m\u001b[0m\n\u001b[0;32m    770\u001b[0m         \u001b[0mop\u001b[0m\u001b[1;33m=\u001b[0m\u001b[1;32mNone\u001b[0m\u001b[1;33m,\u001b[0m\u001b[1;33m\u001b[0m\u001b[1;33m\u001b[0m\u001b[0m\n",
      "\u001b[1;31mNotFoundError\u001b[0m: Could not find directory Face Emotions/refined"
     ]
    }
   ],
   "source": [
    "train_data, val_data = tf.keras.utils.image_dataset_from_directory(directory=\"Face Emotions/refined\",\n",
    "                                            color_mode=\"rgb\",\n",
    "                                            label_mode=\"categorical\",\n",
    "                                            batch_size=32,\n",
    "                                            image_size=(48, 48),\n",
    "                                            shuffle=True,\n",
    "                                            seed=42,\n",
    "                                            validation_split=0.2,\n",
    "                                            subset=\"both\")"
   ]
  },
  {
   "cell_type": "markdown",
   "id": "69df0932-d8f6-4548-9650-b811a0433ce7",
   "metadata": {},
   "source": [
    "# Preprocessing the images"
   ]
  },
  {
   "cell_type": "code",
   "execution_count": 49,
   "id": "45c0f122-fd76-4aa7-b64e-4d3ba5e71faa",
   "metadata": {},
   "outputs": [
    {
     "data": {
      "text/plain": [
       "['angry', 'happy', 'neutral', 'sad']"
      ]
     },
     "execution_count": 49,
     "metadata": {},
     "output_type": "execute_result"
    }
   ],
   "source": [
    "classes_names = train_data.class_names\n",
    "classes_names"
   ]
  },
  {
   "cell_type": "code",
   "execution_count": 50,
   "id": "4d183409-b85d-4564-a1c3-baf4a66c593c",
   "metadata": {},
   "outputs": [],
   "source": [
    "def process(image, label):\n",
    "  image = tf.cast(image/255., tf.float32)\n",
    "  return image,label\n",
    "\n",
    "train_data = train_data.map(process)\n",
    "val_data = val_data.map(process)"
   ]
  },
  {
   "cell_type": "code",
   "execution_count": 21,
   "id": "55996d23-5fe2-44fa-80d4-3d1f3197a6f2",
   "metadata": {},
   "outputs": [
    {
     "name": "stdout",
     "output_type": "stream",
     "text": [
      "tf.Tensor([0. 0. 1. 0.], shape=(4,), dtype=float32)\n"
     ]
    },
    {
     "data": {
      "image/png": "[encoded data removed]",
      "text/plain": [
       "<Figure size 640x480 with 1 Axes>"
      ]
     },
     "metadata": {},
     "output_type": "display_data"
    }
   ],
   "source": [
    "import matplotlib.pyplot as plt\n",
    "for i in train_data.take(1):\n",
    "  plt.imshow(i[0][2])\n",
    "  print(i[1][2])\n",
    "  plt.show()"
   ]
  },
  {
   "cell_type": "markdown",
   "id": "626eee4a-27e7-4450-9501-fd3ec575ea8a",
   "metadata": {},
   "source": [
    "# Applying the CNN Model for face Classification"
   ]
  },
  {
   "cell_type": "code",
   "execution_count": 22,
   "id": "359fbeca-1d89-4ffb-bd45-78a8f2ed4065",
   "metadata": {},
   "outputs": [],
   "source": [
    "# batch size 64\n",
    "tf.random.set_seed(42)\n",
    "\n",
    "# Create the model\n",
    "model_1 = tf.keras.Sequential([\n",
    "  tf.keras.layers.Input(shape=(48, 48, 3)),\n",
    "  tf.keras.layers.Conv2D(512, (3,3), activation=\"relu\", padding=\"same\"),\n",
    "  tf.keras.layers.BatchNormalization(),\n",
    "  tf.keras.layers.Conv2D(256, (3,3), activation=\"relu\", padding=\"same\"),\n",
    "  tf.keras.layers.BatchNormalization(),\n",
    "  tf.keras.layers.MaxPool2D(2),\n",
    "  tf.keras.layers.Dropout(0.8),\n",
    "  tf.keras.layers.Conv2D(128, (3,3), activation=\"relu\", padding=\"same\"),\n",
    "  tf.keras.layers.Conv2D(128, (3,3), activation=\"relu\", padding=\"same\"),\n",
    "  tf.keras.layers.BatchNormalization(),\n",
    "  tf.keras.layers.MaxPool2D(2),\n",
    "  tf.keras.layers.Dropout(0.5),\n",
    "  tf.keras.layers.Conv2D(64, (3,3), activation=\"relu\", padding=\"same\"),\n",
    "  tf.keras.layers.Conv2D(64, (3,3), activation=\"relu\", padding=\"same\"),\n",
    "  tf.keras.layers.BatchNormalization(),\n",
    "  tf.keras.layers.MaxPool2D(2),\n",
    "  tf.keras.layers.Dropout(0.5),\n",
    "  tf.keras.layers.Conv2D(32, (3,3), activation=\"relu\", padding=\"same\"),\n",
    "  tf.keras.layers.MaxPool2D(2),\n",
    "  tf.keras.layers.Dropout(0.5),\n",
    "  tf.keras.layers.Flatten(),\n",
    "  tf.keras.layers.Dense(4, activation=\"softmax\")\n",
    "])\n",
    "\n",
    "# Compile the model\n",
    "model_1.compile(loss=\"categorical_crossentropy\",\n",
    "                optimizer=tf.keras.optimizers.Adam(),\n",
    "                metrics=[\"accuracy\"])\n",
    "\n",
    "checkpoint_callback = tf.keras.callbacks.ModelCheckpoint(filepath=\"checkpoint/\",\n",
    "                                                         save_weights_only=False,\n",
    "                                                         save_best_only=True,\n",
    "                                                         save_freq=\"epoch\",\n",
    "                                                         verbose=1)\n",
    "\n",
    "reduce_lr = tf.keras.callbacks.ReduceLROnPlateau(monitor='val_accuracy', factor=0.1,\n",
    "                              patience=4, min_lr=0.00001)"
   ]
  },
  {
   "cell_type": "code",
   "execution_count": 23,
   "id": "c66c393c-8a65-4702-9b2f-29c88174fa99",
   "metadata": {
    "scrolled": true
   },
   "outputs": [
    {
     "name": "stdout",
     "output_type": "stream",
     "text": [
      "Epoch 1/100\n",
      "479/479 [==============================] - ETA: 0s - loss: 1.5268 - accuracy: 0.3310\n",
      "Epoch 1: val_loss improved from inf to 1.58198, saving model to checkpoint\\\n"
     ]
    },
    {
     "name": "stderr",
     "output_type": "stream",
     "text": [
      "WARNING:absl:Found untraced functions such as _jit_compiled_convolution_op, _jit_compiled_convolution_op, _jit_compiled_convolution_op, _jit_compiled_convolution_op, _jit_compiled_convolution_op while saving (showing 5 of 7). These functions will not be directly callable after loading.\n"
     ]
    },
    {
     "name": "stdout",
     "output_type": "stream",
     "text": [
      "INFO:tensorflow:Assets written to: checkpoint\\assets\n"
     ]
    },
    {
     "name": "stderr",
     "output_type": "stream",
     "text": [
      "INFO:tensorflow:Assets written to: checkpoint\\assets\n"
     ]
    },
    {
     "name": "stdout",
     "output_type": "stream",
     "text": [
      "479/479 [==============================] - 44s 76ms/step - loss: 1.5268 - accuracy: 0.3310 - val_loss: 1.5820 - val_accuracy: 0.3620 - lr: 0.0010\n",
      "Epoch 2/100\n",
      "478/479 [============================>.] - ETA: 0s - loss: 1.3451 - accuracy: 0.3670\n",
      "Epoch 2: val_loss improved from 1.58198 to 1.35368, saving model to checkpoint\\\n"
     ]
    },
    {
     "name": "stderr",
     "output_type": "stream",
     "text": [
      "WARNING:absl:Found untraced functions such as _jit_compiled_convolution_op, _jit_compiled_convolution_op, _jit_compiled_convolution_op, _jit_compiled_convolution_op, _jit_compiled_convolution_op while saving (showing 5 of 7). These functions will not be directly callable after loading.\n"
     ]
    },
    {
     "name": "stdout",
     "output_type": "stream",
     "text": [
      "INFO:tensorflow:Assets written to: checkpoint\\assets\n"
     ]
    },
    {
     "name": "stderr",
     "output_type": "stream",
     "text": [
      "INFO:tensorflow:Assets written to: checkpoint\\assets\n"
     ]
    },
    {
     "name": "stdout",
     "output_type": "stream",
     "text": [
      "479/479 [==============================] - 29s 60ms/step - loss: 1.3452 - accuracy: 0.3668 - val_loss: 1.3537 - val_accuracy: 0.3821 - lr: 0.0010\n",
      "Epoch 3/100\n",
      "478/479 [============================>.] - ETA: 0s - loss: 1.3240 - accuracy: 0.3679\n",
      "Epoch 3: val_loss improved from 1.35368 to 1.33063, saving model to checkpoint\\\n"
     ]
    },
    {
     "name": "stderr",
     "output_type": "stream",
     "text": [
      "WARNING:absl:Found untraced functions such as _jit_compiled_convolution_op, _jit_compiled_convolution_op, _jit_compiled_convolution_op, _jit_compiled_convolution_op, _jit_compiled_convolution_op while saving (showing 5 of 7). These functions will not be directly callable after loading.\n"
     ]
    },
    {
     "name": "stdout",
     "output_type": "stream",
     "text": [
      "INFO:tensorflow:Assets written to: checkpoint\\assets\n"
     ]
    },
    {
     "name": "stderr",
     "output_type": "stream",
     "text": [
      "INFO:tensorflow:Assets written to: checkpoint\\assets\n"
     ]
    },
    {
     "name": "stdout",
     "output_type": "stream",
     "text": [
      "479/479 [==============================] - 27s 57ms/step - loss: 1.3240 - accuracy: 0.3679 - val_loss: 1.3306 - val_accuracy: 0.3897 - lr: 0.0010\n",
      "Epoch 4/100\n",
      "478/479 [============================>.] - ETA: 0s - loss: 1.2854 - accuracy: 0.3918\n",
      "Epoch 4: val_loss improved from 1.33063 to 1.21405, saving model to checkpoint\\\n"
     ]
    },
    {
     "name": "stderr",
     "output_type": "stream",
     "text": [
      "WARNING:absl:Found untraced functions such as _jit_compiled_convolution_op, _jit_compiled_convolution_op, _jit_compiled_convolution_op, _jit_compiled_convolution_op, _jit_compiled_convolution_op while saving (showing 5 of 7). These functions will not be directly callable after loading.\n"
     ]
    },
    {
     "name": "stdout",
     "output_type": "stream",
     "text": [
      "INFO:tensorflow:Assets written to: checkpoint\\assets\n"
     ]
    },
    {
     "name": "stderr",
     "output_type": "stream",
     "text": [
      "INFO:tensorflow:Assets written to: checkpoint\\assets\n"
     ]
    },
    {
     "name": "stdout",
     "output_type": "stream",
     "text": [
      "479/479 [==============================] - 27s 56ms/step - loss: 1.2852 - accuracy: 0.3917 - val_loss: 1.2141 - val_accuracy: 0.4500 - lr: 0.0010\n",
      "Epoch 5/100\n",
      "478/479 [============================>.] - ETA: 0s - loss: 1.2328 - accuracy: 0.4325\n",
      "Epoch 5: val_loss did not improve from 1.21405\n",
      "479/479 [==============================] - 24s 51ms/step - loss: 1.2328 - accuracy: 0.4323 - val_loss: 1.2442 - val_accuracy: 0.4644 - lr: 0.0010\n",
      "Epoch 6/100\n",
      "478/479 [============================>.] - ETA: 0s - loss: 1.1882 - accuracy: 0.4618\n",
      "Epoch 6: val_loss improved from 1.21405 to 1.14696, saving model to checkpoint\\\n"
     ]
    },
    {
     "name": "stderr",
     "output_type": "stream",
     "text": [
      "WARNING:absl:Found untraced functions such as _jit_compiled_convolution_op, _jit_compiled_convolution_op, _jit_compiled_convolution_op, _jit_compiled_convolution_op, _jit_compiled_convolution_op while saving (showing 5 of 7). These functions will not be directly callable after loading.\n"
     ]
    },
    {
     "name": "stdout",
     "output_type": "stream",
     "text": [
      "INFO:tensorflow:Assets written to: checkpoint\\assets\n"
     ]
    },
    {
     "name": "stderr",
     "output_type": "stream",
     "text": [
      "INFO:tensorflow:Assets written to: checkpoint\\assets\n"
     ]
    },
    {
     "name": "stdout",
     "output_type": "stream",
     "text": [
      "479/479 [==============================] - 26s 55ms/step - loss: 1.1886 - accuracy: 0.4615 - val_loss: 1.1470 - val_accuracy: 0.5012 - lr: 0.0010\n",
      "Epoch 7/100\n",
      "479/479 [==============================] - ETA: 0s - loss: 1.1393 - accuracy: 0.4834\n",
      "Epoch 7: val_loss did not improve from 1.14696\n",
      "479/479 [==============================] - 24s 51ms/step - loss: 1.1393 - accuracy: 0.4834 - val_loss: 1.2658 - val_accuracy: 0.4401 - lr: 0.0010\n",
      "Epoch 8/100\n",
      "478/479 [============================>.] - ETA: 0s - loss: 1.1046 - accuracy: 0.5059\n",
      "Epoch 8: val_loss improved from 1.14696 to 1.07902, saving model to checkpoint\\\n"
     ]
    },
    {
     "name": "stderr",
     "output_type": "stream",
     "text": [
      "WARNING:absl:Found untraced functions such as _jit_compiled_convolution_op, _jit_compiled_convolution_op, _jit_compiled_convolution_op, _jit_compiled_convolution_op, _jit_compiled_convolution_op while saving (showing 5 of 7). These functions will not be directly callable after loading.\n"
     ]
    },
    {
     "name": "stdout",
     "output_type": "stream",
     "text": [
      "INFO:tensorflow:Assets written to: checkpoint\\assets\n"
     ]
    },
    {
     "name": "stderr",
     "output_type": "stream",
     "text": [
      "INFO:tensorflow:Assets written to: checkpoint\\assets\n"
     ]
    },
    {
     "name": "stdout",
     "output_type": "stream",
     "text": [
      "479/479 [==============================] - 26s 55ms/step - loss: 1.1047 - accuracy: 0.5059 - val_loss: 1.0790 - val_accuracy: 0.5257 - lr: 0.0010\n",
      "Epoch 9/100\n",
      "479/479 [==============================] - ETA: 0s - loss: 1.0654 - accuracy: 0.5267\n",
      "Epoch 9: val_loss did not improve from 1.07902\n",
      "479/479 [==============================] - 24s 51ms/step - loss: 1.0654 - accuracy: 0.5267 - val_loss: 1.1921 - val_accuracy: 0.4923 - lr: 0.0010\n",
      "Epoch 10/100\n",
      "478/479 [============================>.] - ETA: 0s - loss: 1.0356 - accuracy: 0.5440\n",
      "Epoch 10: val_loss did not improve from 1.07902\n",
      "479/479 [==============================] - 24s 51ms/step - loss: 1.0351 - accuracy: 0.5442 - val_loss: 1.2635 - val_accuracy: 0.4307 - lr: 0.0010\n",
      "Epoch 11/100\n",
      "479/479 [==============================] - ETA: 0s - loss: 0.9963 - accuracy: 0.5626\n",
      "Epoch 11: val_loss improved from 1.07902 to 0.90868, saving model to checkpoint\\\n"
     ]
    },
    {
     "name": "stderr",
     "output_type": "stream",
     "text": [
      "WARNING:absl:Found untraced functions such as _jit_compiled_convolution_op, _jit_compiled_convolution_op, _jit_compiled_convolution_op, _jit_compiled_convolution_op, _jit_compiled_convolution_op while saving (showing 5 of 7). These functions will not be directly callable after loading.\n"
     ]
    },
    {
     "name": "stdout",
     "output_type": "stream",
     "text": [
      "INFO:tensorflow:Assets written to: checkpoint\\assets\n"
     ]
    },
    {
     "name": "stderr",
     "output_type": "stream",
     "text": [
      "INFO:tensorflow:Assets written to: checkpoint\\assets\n"
     ]
    },
    {
     "name": "stdout",
     "output_type": "stream",
     "text": [
      "479/479 [==============================] - 27s 55ms/step - loss: 0.9963 - accuracy: 0.5626 - val_loss: 0.9087 - val_accuracy: 0.6066 - lr: 0.0010\n",
      "Epoch 12/100\n",
      "478/479 [============================>.] - ETA: 0s - loss: 0.9653 - accuracy: 0.5782\n",
      "Epoch 12: val_loss improved from 0.90868 to 0.87455, saving model to checkpoint\\\n"
     ]
    },
    {
     "name": "stderr",
     "output_type": "stream",
     "text": [
      "WARNING:absl:Found untraced functions such as _jit_compiled_convolution_op, _jit_compiled_convolution_op, _jit_compiled_convolution_op, _jit_compiled_convolution_op, _jit_compiled_convolution_op while saving (showing 5 of 7). These functions will not be directly callable after loading.\n"
     ]
    },
    {
     "name": "stdout",
     "output_type": "stream",
     "text": [
      "INFO:tensorflow:Assets written to: checkpoint\\assets\n"
     ]
    },
    {
     "name": "stderr",
     "output_type": "stream",
     "text": [
      "INFO:tensorflow:Assets written to: checkpoint\\assets\n"
     ]
    },
    {
     "name": "stdout",
     "output_type": "stream",
     "text": [
      "479/479 [==============================] - 26s 55ms/step - loss: 0.9661 - accuracy: 0.5778 - val_loss: 0.8746 - val_accuracy: 0.6257 - lr: 0.0010\n",
      "Epoch 13/100\n",
      "478/479 [============================>.] - ETA: 0s - loss: 0.9410 - accuracy: 0.5948\n",
      "Epoch 13: val_loss did not improve from 0.87455\n",
      "479/479 [==============================] - 24s 51ms/step - loss: 0.9409 - accuracy: 0.5948 - val_loss: 0.9844 - val_accuracy: 0.5873 - lr: 0.0010\n",
      "Epoch 14/100\n",
      "479/479 [==============================] - ETA: 0s - loss: 0.9244 - accuracy: 0.6051\n",
      "Epoch 14: val_loss did not improve from 0.87455\n",
      "479/479 [==============================] - 24s 50ms/step - loss: 0.9244 - accuracy: 0.6051 - val_loss: 0.8824 - val_accuracy: 0.6382 - lr: 0.0010\n",
      "Epoch 15/100\n",
      "479/479 [==============================] - ETA: 0s - loss: 0.9105 - accuracy: 0.6160\n",
      "Epoch 15: val_loss improved from 0.87455 to 0.83487, saving model to checkpoint\\\n"
     ]
    },
    {
     "name": "stderr",
     "output_type": "stream",
     "text": [
      "WARNING:absl:Found untraced functions such as _jit_compiled_convolution_op, _jit_compiled_convolution_op, _jit_compiled_convolution_op, _jit_compiled_convolution_op, _jit_compiled_convolution_op while saving (showing 5 of 7). These functions will not be directly callable after loading.\n"
     ]
    },
    {
     "name": "stdout",
     "output_type": "stream",
     "text": [
      "INFO:tensorflow:Assets written to: checkpoint\\assets\n"
     ]
    },
    {
     "name": "stderr",
     "output_type": "stream",
     "text": [
      "INFO:tensorflow:Assets written to: checkpoint\\assets\n"
     ]
    },
    {
     "name": "stdout",
     "output_type": "stream",
     "text": [
      "479/479 [==============================] - 26s 55ms/step - loss: 0.9105 - accuracy: 0.6160 - val_loss: 0.8349 - val_accuracy: 0.6507 - lr: 0.0010\n",
      "Epoch 16/100\n",
      "478/479 [============================>.] - ETA: 0s - loss: 0.8860 - accuracy: 0.6262\n",
      "Epoch 16: val_loss did not improve from 0.83487\n",
      "479/479 [==============================] - 24s 51ms/step - loss: 0.8858 - accuracy: 0.6261 - val_loss: 0.8374 - val_accuracy: 0.6531 - lr: 0.0010\n",
      "Epoch 17/100\n",
      "478/479 [============================>.] - ETA: 0s - loss: 0.8800 - accuracy: 0.6322\n",
      "Epoch 17: val_loss did not improve from 0.83487\n",
      "479/479 [==============================] - 24s 51ms/step - loss: 0.8804 - accuracy: 0.6323 - val_loss: 0.8349 - val_accuracy: 0.6578 - lr: 0.0010\n",
      "Epoch 18/100\n",
      "479/479 [==============================] - ETA: 0s - loss: 0.8562 - accuracy: 0.6417\n",
      "Epoch 18: val_loss did not improve from 0.83487\n",
      "479/479 [==============================] - 24s 51ms/step - loss: 0.8562 - accuracy: 0.6417 - val_loss: 0.8928 - val_accuracy: 0.6408 - lr: 0.0010\n",
      "Epoch 19/100\n",
      "479/479 [==============================] - ETA: 0s - loss: 0.8478 - accuracy: 0.6489\n",
      "Epoch 19: val_loss did not improve from 0.83487\n",
      "479/479 [==============================] - 24s 51ms/step - loss: 0.8478 - accuracy: 0.6489 - val_loss: 0.8516 - val_accuracy: 0.6507 - lr: 0.0010\n",
      "Epoch 20/100\n",
      "478/479 [============================>.] - ETA: 0s - loss: 0.8304 - accuracy: 0.6611\n",
      "Epoch 20: val_loss improved from 0.83487 to 0.77426, saving model to checkpoint\\\n"
     ]
    },
    {
     "name": "stderr",
     "output_type": "stream",
     "text": [
      "WARNING:absl:Found untraced functions such as _jit_compiled_convolution_op, _jit_compiled_convolution_op, _jit_compiled_convolution_op, _jit_compiled_convolution_op, _jit_compiled_convolution_op while saving (showing 5 of 7). These functions will not be directly callable after loading.\n"
     ]
    },
    {
     "name": "stdout",
     "output_type": "stream",
     "text": [
      "INFO:tensorflow:Assets written to: checkpoint\\assets\n"
     ]
    },
    {
     "name": "stderr",
     "output_type": "stream",
     "text": [
      "INFO:tensorflow:Assets written to: checkpoint\\assets\n"
     ]
    },
    {
     "name": "stdout",
     "output_type": "stream",
     "text": [
      "479/479 [==============================] - 26s 55ms/step - loss: 0.8302 - accuracy: 0.6613 - val_loss: 0.7743 - val_accuracy: 0.6836 - lr: 0.0010\n",
      "Epoch 21/100\n",
      "479/479 [==============================] - ETA: 0s - loss: 0.8166 - accuracy: 0.6587\n",
      "Epoch 21: val_loss did not improve from 0.77426\n",
      "479/479 [==============================] - 24s 51ms/step - loss: 0.8166 - accuracy: 0.6587 - val_loss: 0.8753 - val_accuracy: 0.6306 - lr: 0.0010\n",
      "Epoch 22/100\n",
      "478/479 [============================>.] - ETA: 0s - loss: 0.7951 - accuracy: 0.6700\n",
      "Epoch 22: val_loss improved from 0.77426 to 0.74981, saving model to checkpoint\\\n"
     ]
    },
    {
     "name": "stderr",
     "output_type": "stream",
     "text": [
      "WARNING:absl:Found untraced functions such as _jit_compiled_convolution_op, _jit_compiled_convolution_op, _jit_compiled_convolution_op, _jit_compiled_convolution_op, _jit_compiled_convolution_op while saving (showing 5 of 7). These functions will not be directly callable after loading.\n"
     ]
    },
    {
     "name": "stdout",
     "output_type": "stream",
     "text": [
      "INFO:tensorflow:Assets written to: checkpoint\\assets\n"
     ]
    },
    {
     "name": "stderr",
     "output_type": "stream",
     "text": [
      "INFO:tensorflow:Assets written to: checkpoint\\assets\n"
     ]
    },
    {
     "name": "stdout",
     "output_type": "stream",
     "text": [
      "479/479 [==============================] - 26s 55ms/step - loss: 0.7953 - accuracy: 0.6699 - val_loss: 0.7498 - val_accuracy: 0.6920 - lr: 0.0010\n",
      "Epoch 23/100\n",
      "478/479 [============================>.] - ETA: 0s - loss: 0.7971 - accuracy: 0.6683\n",
      "Epoch 23: val_loss improved from 0.74981 to 0.74586, saving model to checkpoint\\\n"
     ]
    },
    {
     "name": "stderr",
     "output_type": "stream",
     "text": [
      "WARNING:absl:Found untraced functions such as _jit_compiled_convolution_op, _jit_compiled_convolution_op, _jit_compiled_convolution_op, _jit_compiled_convolution_op, _jit_compiled_convolution_op while saving (showing 5 of 7). These functions will not be directly callable after loading.\n"
     ]
    },
    {
     "name": "stdout",
     "output_type": "stream",
     "text": [
      "INFO:tensorflow:Assets written to: checkpoint\\assets\n"
     ]
    },
    {
     "name": "stderr",
     "output_type": "stream",
     "text": [
      "INFO:tensorflow:Assets written to: checkpoint\\assets\n"
     ]
    },
    {
     "name": "stdout",
     "output_type": "stream",
     "text": [
      "479/479 [==============================] - 26s 55ms/step - loss: 0.7970 - accuracy: 0.6683 - val_loss: 0.7459 - val_accuracy: 0.6996 - lr: 0.0010\n",
      "Epoch 24/100\n",
      "479/479 [==============================] - ETA: 0s - loss: 0.7894 - accuracy: 0.6708\n",
      "Epoch 24: val_loss improved from 0.74586 to 0.74185, saving model to checkpoint\\\n"
     ]
    },
    {
     "name": "stderr",
     "output_type": "stream",
     "text": [
      "WARNING:absl:Found untraced functions such as _jit_compiled_convolution_op, _jit_compiled_convolution_op, _jit_compiled_convolution_op, _jit_compiled_convolution_op, _jit_compiled_convolution_op while saving (showing 5 of 7). These functions will not be directly callable after loading.\n"
     ]
    },
    {
     "name": "stdout",
     "output_type": "stream",
     "text": [
      "INFO:tensorflow:Assets written to: checkpoint\\assets\n"
     ]
    },
    {
     "name": "stderr",
     "output_type": "stream",
     "text": [
      "INFO:tensorflow:Assets written to: checkpoint\\assets\n"
     ]
    },
    {
     "name": "stdout",
     "output_type": "stream",
     "text": [
      "479/479 [==============================] - 27s 55ms/step - loss: 0.7894 - accuracy: 0.6708 - val_loss: 0.7418 - val_accuracy: 0.7001 - lr: 0.0010\n",
      "Epoch 25/100\n",
      "479/479 [==============================] - ETA: 0s - loss: 0.7720 - accuracy: 0.6831\n",
      "Epoch 25: val_loss did not improve from 0.74185\n",
      "479/479 [==============================] - 24s 49ms/step - loss: 0.7720 - accuracy: 0.6831 - val_loss: 0.7931 - val_accuracy: 0.6719 - lr: 0.0010\n",
      "Epoch 26/100\n",
      "478/479 [============================>.] - ETA: 0s - loss: 0.7694 - accuracy: 0.6859\n",
      "Epoch 26: val_loss did not improve from 0.74185\n",
      "479/479 [==============================] - 24s 49ms/step - loss: 0.7696 - accuracy: 0.6859 - val_loss: 0.7785 - val_accuracy: 0.6818 - lr: 0.0010\n",
      "Epoch 27/100\n",
      "479/479 [==============================] - ETA: 0s - loss: 0.7548 - accuracy: 0.6894\n",
      "Epoch 27: val_loss improved from 0.74185 to 0.73625, saving model to checkpoint\\\n"
     ]
    },
    {
     "name": "stderr",
     "output_type": "stream",
     "text": [
      "WARNING:absl:Found untraced functions such as _jit_compiled_convolution_op, _jit_compiled_convolution_op, _jit_compiled_convolution_op, _jit_compiled_convolution_op, _jit_compiled_convolution_op while saving (showing 5 of 7). These functions will not be directly callable after loading.\n"
     ]
    },
    {
     "name": "stdout",
     "output_type": "stream",
     "text": [
      "INFO:tensorflow:Assets written to: checkpoint\\assets\n"
     ]
    },
    {
     "name": "stderr",
     "output_type": "stream",
     "text": [
      "INFO:tensorflow:Assets written to: checkpoint\\assets\n"
     ]
    },
    {
     "name": "stdout",
     "output_type": "stream",
     "text": [
      "479/479 [==============================] - 26s 54ms/step - loss: 0.7548 - accuracy: 0.6894 - val_loss: 0.7363 - val_accuracy: 0.7011 - lr: 0.0010\n",
      "Epoch 28/100\n",
      "479/479 [==============================] - ETA: 0s - loss: 0.7502 - accuracy: 0.6904\n",
      "Epoch 28: val_loss improved from 0.73625 to 0.71123, saving model to checkpoint\\\n"
     ]
    },
    {
     "name": "stderr",
     "output_type": "stream",
     "text": [
      "WARNING:absl:Found untraced functions such as _jit_compiled_convolution_op, _jit_compiled_convolution_op, _jit_compiled_convolution_op, _jit_compiled_convolution_op, _jit_compiled_convolution_op while saving (showing 5 of 7). These functions will not be directly callable after loading.\n"
     ]
    },
    {
     "name": "stdout",
     "output_type": "stream",
     "text": [
      "INFO:tensorflow:Assets written to: checkpoint\\assets\n"
     ]
    },
    {
     "name": "stderr",
     "output_type": "stream",
     "text": [
      "INFO:tensorflow:Assets written to: checkpoint\\assets\n"
     ]
    },
    {
     "name": "stdout",
     "output_type": "stream",
     "text": [
      "479/479 [==============================] - 26s 54ms/step - loss: 0.7502 - accuracy: 0.6904 - val_loss: 0.7112 - val_accuracy: 0.7108 - lr: 0.0010\n",
      "Epoch 29/100\n",
      "479/479 [==============================] - ETA: 0s - loss: 0.7358 - accuracy: 0.7007\n",
      "Epoch 29: val_loss did not improve from 0.71123\n",
      "479/479 [==============================] - 24s 49ms/step - loss: 0.7358 - accuracy: 0.7007 - val_loss: 0.7406 - val_accuracy: 0.7045 - lr: 0.0010\n",
      "Epoch 30/100\n",
      "478/479 [============================>.] - ETA: 0s - loss: 0.7342 - accuracy: 0.7024\n",
      "Epoch 30: val_loss improved from 0.71123 to 0.70080, saving model to checkpoint\\\n"
     ]
    },
    {
     "name": "stderr",
     "output_type": "stream",
     "text": [
      "WARNING:absl:Found untraced functions such as _jit_compiled_convolution_op, _jit_compiled_convolution_op, _jit_compiled_convolution_op, _jit_compiled_convolution_op, _jit_compiled_convolution_op while saving (showing 5 of 7). These functions will not be directly callable after loading.\n"
     ]
    },
    {
     "name": "stdout",
     "output_type": "stream",
     "text": [
      "INFO:tensorflow:Assets written to: checkpoint\\assets\n"
     ]
    },
    {
     "name": "stderr",
     "output_type": "stream",
     "text": [
      "INFO:tensorflow:Assets written to: checkpoint\\assets\n"
     ]
    },
    {
     "name": "stdout",
     "output_type": "stream",
     "text": [
      "479/479 [==============================] - 26s 54ms/step - loss: 0.7338 - accuracy: 0.7026 - val_loss: 0.7008 - val_accuracy: 0.7165 - lr: 0.0010\n",
      "Epoch 31/100\n",
      "479/479 [==============================] - ETA: 0s - loss: 0.7152 - accuracy: 0.7105\n",
      "Epoch 31: val_loss improved from 0.70080 to 0.69675, saving model to checkpoint\\\n"
     ]
    },
    {
     "name": "stderr",
     "output_type": "stream",
     "text": [
      "WARNING:absl:Found untraced functions such as _jit_compiled_convolution_op, _jit_compiled_convolution_op, _jit_compiled_convolution_op, _jit_compiled_convolution_op, _jit_compiled_convolution_op while saving (showing 5 of 7). These functions will not be directly callable after loading.\n"
     ]
    },
    {
     "name": "stdout",
     "output_type": "stream",
     "text": [
      "INFO:tensorflow:Assets written to: checkpoint\\assets\n"
     ]
    },
    {
     "name": "stderr",
     "output_type": "stream",
     "text": [
      "INFO:tensorflow:Assets written to: checkpoint\\assets\n"
     ]
    },
    {
     "name": "stdout",
     "output_type": "stream",
     "text": [
      "479/479 [==============================] - 26s 54ms/step - loss: 0.7152 - accuracy: 0.7105 - val_loss: 0.6968 - val_accuracy: 0.7194 - lr: 0.0010\n",
      "Epoch 32/100\n",
      "478/479 [============================>.] - ETA: 0s - loss: 0.7116 - accuracy: 0.7127\n",
      "Epoch 32: val_loss did not improve from 0.69675\n",
      "479/479 [==============================] - 24s 49ms/step - loss: 0.7117 - accuracy: 0.7127 - val_loss: 0.7100 - val_accuracy: 0.7105 - lr: 0.0010\n",
      "Epoch 33/100\n",
      "478/479 [============================>.] - ETA: 0s - loss: 0.7080 - accuracy: 0.7130\n",
      "Epoch 33: val_loss improved from 0.69675 to 0.69552, saving model to checkpoint\\\n"
     ]
    },
    {
     "name": "stderr",
     "output_type": "stream",
     "text": [
      "WARNING:absl:Found untraced functions such as _jit_compiled_convolution_op, _jit_compiled_convolution_op, _jit_compiled_convolution_op, _jit_compiled_convolution_op, _jit_compiled_convolution_op while saving (showing 5 of 7). These functions will not be directly callable after loading.\n"
     ]
    },
    {
     "name": "stdout",
     "output_type": "stream",
     "text": [
      "INFO:tensorflow:Assets written to: checkpoint\\assets\n"
     ]
    },
    {
     "name": "stderr",
     "output_type": "stream",
     "text": [
      "INFO:tensorflow:Assets written to: checkpoint\\assets\n"
     ]
    },
    {
     "name": "stdout",
     "output_type": "stream",
     "text": [
      "479/479 [==============================] - 26s 54ms/step - loss: 0.7077 - accuracy: 0.7133 - val_loss: 0.6955 - val_accuracy: 0.7215 - lr: 0.0010\n",
      "Epoch 34/100\n",
      "479/479 [==============================] - ETA: 0s - loss: 0.6984 - accuracy: 0.7172\n",
      "Epoch 34: val_loss did not improve from 0.69552\n",
      "479/479 [==============================] - 24s 50ms/step - loss: 0.6984 - accuracy: 0.7172 - val_loss: 0.7223 - val_accuracy: 0.7108 - lr: 0.0010\n",
      "Epoch 35/100\n",
      "478/479 [============================>.] - ETA: 0s - loss: 0.6866 - accuracy: 0.7244\n",
      "Epoch 35: val_loss did not improve from 0.69552\n",
      "479/479 [==============================] - 24s 50ms/step - loss: 0.6861 - accuracy: 0.7246 - val_loss: 0.7000 - val_accuracy: 0.7230 - lr: 0.0010\n",
      "Epoch 36/100\n",
      "478/479 [============================>.] - ETA: 0s - loss: 0.6926 - accuracy: 0.7153\n",
      "Epoch 36: val_loss improved from 0.69552 to 0.67756, saving model to checkpoint\\\n"
     ]
    },
    {
     "name": "stderr",
     "output_type": "stream",
     "text": [
      "WARNING:absl:Found untraced functions such as _jit_compiled_convolution_op, _jit_compiled_convolution_op, _jit_compiled_convolution_op, _jit_compiled_convolution_op, _jit_compiled_convolution_op while saving (showing 5 of 7). These functions will not be directly callable after loading.\n"
     ]
    },
    {
     "name": "stdout",
     "output_type": "stream",
     "text": [
      "INFO:tensorflow:Assets written to: checkpoint\\assets\n"
     ]
    },
    {
     "name": "stderr",
     "output_type": "stream",
     "text": [
      "INFO:tensorflow:Assets written to: checkpoint\\assets\n"
     ]
    },
    {
     "name": "stdout",
     "output_type": "stream",
     "text": [
      "479/479 [==============================] - 26s 54ms/step - loss: 0.6926 - accuracy: 0.7152 - val_loss: 0.6776 - val_accuracy: 0.7304 - lr: 0.0010\n",
      "Epoch 37/100\n",
      "478/479 [============================>.] - ETA: 0s - loss: 0.6705 - accuracy: 0.7329\n",
      "Epoch 37: val_loss did not improve from 0.67756\n",
      "479/479 [==============================] - 24s 50ms/step - loss: 0.6704 - accuracy: 0.7329 - val_loss: 0.6903 - val_accuracy: 0.7246 - lr: 0.0010\n",
      "Epoch 38/100\n",
      "478/479 [============================>.] - ETA: 0s - loss: 0.6731 - accuracy: 0.7274\n",
      "Epoch 38: val_loss did not improve from 0.67756\n",
      "479/479 [==============================] - 24s 50ms/step - loss: 0.6735 - accuracy: 0.7273 - val_loss: 0.7119 - val_accuracy: 0.7121 - lr: 0.0010\n",
      "Epoch 39/100\n",
      "479/479 [==============================] - ETA: 0s - loss: 0.6575 - accuracy: 0.7381\n",
      "Epoch 39: val_loss did not improve from 0.67756\n",
      "479/479 [==============================] - 24s 50ms/step - loss: 0.6575 - accuracy: 0.7381 - val_loss: 0.6849 - val_accuracy: 0.7254 - lr: 0.0010\n",
      "Epoch 40/100\n",
      "479/479 [==============================] - ETA: 0s - loss: 0.6521 - accuracy: 0.7431\n",
      "Epoch 40: val_loss did not improve from 0.67756\n",
      "479/479 [==============================] - 24s 49ms/step - loss: 0.6521 - accuracy: 0.7431 - val_loss: 0.7049 - val_accuracy: 0.7092 - lr: 0.0010\n",
      "Epoch 41/100\n",
      "479/479 [==============================] - ETA: 0s - loss: 0.6208 - accuracy: 0.7520\n",
      "Epoch 41: val_loss improved from 0.67756 to 0.65866, saving model to checkpoint\\\n"
     ]
    },
    {
     "name": "stderr",
     "output_type": "stream",
     "text": [
      "WARNING:absl:Found untraced functions such as _jit_compiled_convolution_op, _jit_compiled_convolution_op, _jit_compiled_convolution_op, _jit_compiled_convolution_op, _jit_compiled_convolution_op while saving (showing 5 of 7). These functions will not be directly callable after loading.\n"
     ]
    },
    {
     "name": "stdout",
     "output_type": "stream",
     "text": [
      "INFO:tensorflow:Assets written to: checkpoint\\assets\n"
     ]
    },
    {
     "name": "stderr",
     "output_type": "stream",
     "text": [
      "INFO:tensorflow:Assets written to: checkpoint\\assets\n"
     ]
    },
    {
     "name": "stdout",
     "output_type": "stream",
     "text": [
      "479/479 [==============================] - 26s 54ms/step - loss: 0.6208 - accuracy: 0.7520 - val_loss: 0.6587 - val_accuracy: 0.7437 - lr: 1.0000e-04\n",
      "Epoch 42/100\n",
      "478/479 [============================>.] - ETA: 0s - loss: 0.6054 - accuracy: 0.7584\n",
      "Epoch 42: val_loss improved from 0.65866 to 0.64703, saving model to checkpoint\\\n"
     ]
    },
    {
     "name": "stderr",
     "output_type": "stream",
     "text": [
      "WARNING:absl:Found untraced functions such as _jit_compiled_convolution_op, _jit_compiled_convolution_op, _jit_compiled_convolution_op, _jit_compiled_convolution_op, _jit_compiled_convolution_op while saving (showing 5 of 7). These functions will not be directly callable after loading.\n"
     ]
    },
    {
     "name": "stdout",
     "output_type": "stream",
     "text": [
      "INFO:tensorflow:Assets written to: checkpoint\\assets\n"
     ]
    },
    {
     "name": "stderr",
     "output_type": "stream",
     "text": [
      "INFO:tensorflow:Assets written to: checkpoint\\assets\n"
     ]
    },
    {
     "name": "stdout",
     "output_type": "stream",
     "text": [
      "479/479 [==============================] - 26s 54ms/step - loss: 0.6057 - accuracy: 0.7584 - val_loss: 0.6470 - val_accuracy: 0.7481 - lr: 1.0000e-04\n",
      "Epoch 43/100\n",
      "478/479 [============================>.] - ETA: 0s - loss: 0.5939 - accuracy: 0.7631\n",
      "Epoch 43: val_loss did not improve from 0.64703\n",
      "479/479 [==============================] - 24s 51ms/step - loss: 0.5934 - accuracy: 0.7634 - val_loss: 0.6478 - val_accuracy: 0.7452 - lr: 1.0000e-04\n",
      "Epoch 44/100\n",
      "478/479 [============================>.] - ETA: 0s - loss: 0.5980 - accuracy: 0.7631\n",
      "Epoch 44: val_loss improved from 0.64703 to 0.64501, saving model to checkpoint\\\n"
     ]
    },
    {
     "name": "stderr",
     "output_type": "stream",
     "text": [
      "WARNING:absl:Found untraced functions such as _jit_compiled_convolution_op, _jit_compiled_convolution_op, _jit_compiled_convolution_op, _jit_compiled_convolution_op, _jit_compiled_convolution_op while saving (showing 5 of 7). These functions will not be directly callable after loading.\n"
     ]
    },
    {
     "name": "stdout",
     "output_type": "stream",
     "text": [
      "INFO:tensorflow:Assets written to: checkpoint\\assets\n"
     ]
    },
    {
     "name": "stderr",
     "output_type": "stream",
     "text": [
      "INFO:tensorflow:Assets written to: checkpoint\\assets\n"
     ]
    },
    {
     "name": "stdout",
     "output_type": "stream",
     "text": [
      "479/479 [==============================] - 26s 55ms/step - loss: 0.5983 - accuracy: 0.7631 - val_loss: 0.6450 - val_accuracy: 0.7481 - lr: 1.0000e-04\n",
      "Epoch 45/100\n",
      "479/479 [==============================] - ETA: 0s - loss: 0.5903 - accuracy: 0.7610\n",
      "Epoch 45: val_loss did not improve from 0.64501\n",
      "479/479 [==============================] - 24s 51ms/step - loss: 0.5903 - accuracy: 0.7610 - val_loss: 0.6470 - val_accuracy: 0.7468 - lr: 1.0000e-04\n",
      "Epoch 46/100\n",
      "478/479 [============================>.] - ETA: 0s - loss: 0.5838 - accuracy: 0.7643\n",
      "Epoch 46: val_loss did not improve from 0.64501\n",
      "479/479 [==============================] - 24s 51ms/step - loss: 0.5837 - accuracy: 0.7642 - val_loss: 0.6477 - val_accuracy: 0.7473 - lr: 1.0000e-04\n",
      "Epoch 47/100\n",
      "478/479 [============================>.] - ETA: 0s - loss: 0.5792 - accuracy: 0.7686\n",
      "Epoch 47: val_loss did not improve from 0.64501\n",
      "479/479 [==============================] - 24s 50ms/step - loss: 0.5794 - accuracy: 0.7687 - val_loss: 0.6488 - val_accuracy: 0.7473 - lr: 1.0000e-05\n",
      "Epoch 48/100\n",
      "479/479 [==============================] - ETA: 0s - loss: 0.5740 - accuracy: 0.7698\n",
      "Epoch 48: val_loss did not improve from 0.64501\n",
      "479/479 [==============================] - 24s 50ms/step - loss: 0.5740 - accuracy: 0.7698 - val_loss: 0.6482 - val_accuracy: 0.7484 - lr: 1.0000e-05\n",
      "Epoch 49/100\n",
      "479/479 [==============================] - ETA: 0s - loss: 0.5781 - accuracy: 0.7651\n",
      "Epoch 49: val_loss did not improve from 0.64501\n",
      "479/479 [==============================] - 24s 49ms/step - loss: 0.5781 - accuracy: 0.7651 - val_loss: 0.6475 - val_accuracy: 0.7486 - lr: 1.0000e-05\n",
      "Epoch 50/100\n",
      "478/479 [============================>.] - ETA: 0s - loss: 0.5747 - accuracy: 0.7685\n",
      "Epoch 50: val_loss did not improve from 0.64501\n",
      "479/479 [==============================] - 25s 52ms/step - loss: 0.5755 - accuracy: 0.7682 - val_loss: 0.6482 - val_accuracy: 0.7492 - lr: 1.0000e-05\n",
      "Epoch 51/100\n",
      "478/479 [============================>.] - ETA: 0s - loss: 0.5752 - accuracy: 0.7718\n",
      "Epoch 51: val_loss did not improve from 0.64501\n",
      "479/479 [==============================] - 24s 49ms/step - loss: 0.5749 - accuracy: 0.7720 - val_loss: 0.6473 - val_accuracy: 0.7481 - lr: 1.0000e-05\n",
      "Epoch 52/100\n",
      "478/479 [============================>.] - ETA: 0s - loss: 0.5770 - accuracy: 0.7726\n",
      "Epoch 52: val_loss did not improve from 0.64501\n",
      "479/479 [==============================] - 24s 51ms/step - loss: 0.5768 - accuracy: 0.7727 - val_loss: 0.6475 - val_accuracy: 0.7476 - lr: 1.0000e-05\n",
      "Epoch 53/100\n",
      "479/479 [==============================] - ETA: 0s - loss: 0.5679 - accuracy: 0.7737\n",
      "Epoch 53: val_loss did not improve from 0.64501\n",
      "479/479 [==============================] - 25s 51ms/step - loss: 0.5679 - accuracy: 0.7737 - val_loss: 0.6480 - val_accuracy: 0.7486 - lr: 1.0000e-05\n",
      "Epoch 54/100\n",
      "479/479 [==============================] - ETA: 0s - loss: 0.5779 - accuracy: 0.7683\n",
      "Epoch 54: val_loss did not improve from 0.64501\n",
      "479/479 [==============================] - 24s 50ms/step - loss: 0.5779 - accuracy: 0.7683 - val_loss: 0.6477 - val_accuracy: 0.7484 - lr: 1.0000e-05\n",
      "Epoch 55/100\n",
      "478/479 [============================>.] - ETA: 0s - loss: 0.5733 - accuracy: 0.7686\n",
      "Epoch 55: val_loss did not improve from 0.64501\n",
      "479/479 [==============================] - 25s 51ms/step - loss: 0.5737 - accuracy: 0.7684 - val_loss: 0.6483 - val_accuracy: 0.7499 - lr: 1.0000e-05\n",
      "Epoch 56/100\n",
      "479/479 [==============================] - ETA: 0s - loss: 0.5752 - accuracy: 0.7711\n",
      "Epoch 56: val_loss did not improve from 0.64501\n",
      "479/479 [==============================] - 24s 51ms/step - loss: 0.5752 - accuracy: 0.7711 - val_loss: 0.6470 - val_accuracy: 0.7481 - lr: 1.0000e-05\n",
      "Epoch 57/100\n",
      "478/479 [============================>.] - ETA: 0s - loss: 0.5699 - accuracy: 0.7682\n",
      "Epoch 57: val_loss did not improve from 0.64501\n",
      "479/479 [==============================] - 24s 49ms/step - loss: 0.5702 - accuracy: 0.7683 - val_loss: 0.6469 - val_accuracy: 0.7494 - lr: 1.0000e-05\n",
      "Epoch 58/100\n",
      "479/479 [==============================] - ETA: 0s - loss: 0.5709 - accuracy: 0.7726\n",
      "Epoch 58: val_loss did not improve from 0.64501\n",
      "479/479 [==============================] - 24s 51ms/step - loss: 0.5709 - accuracy: 0.7726 - val_loss: 0.6470 - val_accuracy: 0.7481 - lr: 1.0000e-05\n",
      "Epoch 59/100\n",
      "478/479 [============================>.] - ETA: 0s - loss: 0.5711 - accuracy: 0.7753\n",
      "Epoch 59: val_loss did not improve from 0.64501\n",
      "479/479 [==============================] - 24s 51ms/step - loss: 0.5710 - accuracy: 0.7753 - val_loss: 0.6475 - val_accuracy: 0.7489 - lr: 1.0000e-05\n",
      "Epoch 60/100\n",
      "479/479 [==============================] - ETA: 0s - loss: 0.5740 - accuracy: 0.7696\n",
      "Epoch 60: val_loss did not improve from 0.64501\n",
      "479/479 [==============================] - 24s 50ms/step - loss: 0.5740 - accuracy: 0.7696 - val_loss: 0.6473 - val_accuracy: 0.7486 - lr: 1.0000e-05\n",
      "Epoch 61/100\n",
      "479/479 [==============================] - ETA: 0s - loss: 0.5663 - accuracy: 0.7732\n",
      "Epoch 61: val_loss did not improve from 0.64501\n",
      "479/479 [==============================] - 24s 50ms/step - loss: 0.5663 - accuracy: 0.7732 - val_loss: 0.6477 - val_accuracy: 0.7478 - lr: 1.0000e-05\n",
      "Epoch 62/100\n",
      "479/479 [==============================] - ETA: 0s - loss: 0.5695 - accuracy: 0.7717\n",
      "Epoch 62: val_loss did not improve from 0.64501\n",
      "479/479 [==============================] - 24s 49ms/step - loss: 0.5695 - accuracy: 0.7717 - val_loss: 0.6470 - val_accuracy: 0.7476 - lr: 1.0000e-05\n",
      "Epoch 63/100\n",
      "479/479 [==============================] - ETA: 0s - loss: 0.5657 - accuracy: 0.7759\n",
      "Epoch 63: val_loss did not improve from 0.64501\n",
      "479/479 [==============================] - 24s 51ms/step - loss: 0.5657 - accuracy: 0.7759 - val_loss: 0.6485 - val_accuracy: 0.7458 - lr: 1.0000e-05\n",
      "Epoch 64/100\n",
      "478/479 [============================>.] - ETA: 0s - loss: 0.5699 - accuracy: 0.7738\n",
      "Epoch 64: val_loss did not improve from 0.64501\n",
      "479/479 [==============================] - 24s 50ms/step - loss: 0.5700 - accuracy: 0.7738 - val_loss: 0.6467 - val_accuracy: 0.7471 - lr: 1.0000e-05\n",
      "Epoch 65/100\n",
      "478/479 [============================>.] - ETA: 0s - loss: 0.5647 - accuracy: 0.7740\n",
      "Epoch 65: val_loss did not improve from 0.64501\n",
      "479/479 [==============================] - 25s 51ms/step - loss: 0.5648 - accuracy: 0.7739 - val_loss: 0.6473 - val_accuracy: 0.7478 - lr: 1.0000e-05\n",
      "Epoch 66/100\n",
      "479/479 [==============================] - ETA: 0s - loss: 0.5651 - accuracy: 0.7758\n",
      "Epoch 66: val_loss did not improve from 0.64501\n",
      "479/479 [==============================] - 24s 51ms/step - loss: 0.5651 - accuracy: 0.7758 - val_loss: 0.6475 - val_accuracy: 0.7484 - lr: 1.0000e-05\n",
      "Epoch 67/100\n",
      "479/479 [==============================] - ETA: 0s - loss: 0.5727 - accuracy: 0.7726\n",
      "Epoch 67: val_loss did not improve from 0.64501\n",
      "479/479 [==============================] - 24s 51ms/step - loss: 0.5727 - accuracy: 0.7726 - val_loss: 0.6473 - val_accuracy: 0.7465 - lr: 1.0000e-05\n",
      "Epoch 68/100\n",
      "478/479 [============================>.] - ETA: 0s - loss: 0.5684 - accuracy: 0.7715\n",
      "Epoch 68: val_loss did not improve from 0.64501\n",
      "479/479 [==============================] - 24s 50ms/step - loss: 0.5685 - accuracy: 0.7715 - val_loss: 0.6473 - val_accuracy: 0.7471 - lr: 1.0000e-05\n",
      "Epoch 69/100\n",
      "478/479 [============================>.] - ETA: 0s - loss: 0.5705 - accuracy: 0.7743\n",
      "Epoch 69: val_loss did not improve from 0.64501\n",
      "479/479 [==============================] - 24s 50ms/step - loss: 0.5704 - accuracy: 0.7743 - val_loss: 0.6470 - val_accuracy: 0.7478 - lr: 1.0000e-05\n",
      "Epoch 70/100\n",
      "478/479 [============================>.] - ETA: 0s - loss: 0.5728 - accuracy: 0.7718\n",
      "Epoch 70: val_loss did not improve from 0.64501\n",
      "479/479 [==============================] - 24s 50ms/step - loss: 0.5727 - accuracy: 0.7720 - val_loss: 0.6479 - val_accuracy: 0.7473 - lr: 1.0000e-05\n",
      "Epoch 71/100\n",
      "478/479 [============================>.] - ETA: 0s - loss: 0.5703 - accuracy: 0.7714\n",
      "Epoch 71: val_loss did not improve from 0.64501\n",
      "479/479 [==============================] - 24s 50ms/step - loss: 0.5706 - accuracy: 0.7712 - val_loss: 0.6461 - val_accuracy: 0.7484 - lr: 1.0000e-05\n",
      "Epoch 72/100\n",
      "478/479 [============================>.] - ETA: 0s - loss: 0.5603 - accuracy: 0.7762\n",
      "Epoch 72: val_loss did not improve from 0.64501\n",
      "479/479 [==============================] - 24s 50ms/step - loss: 0.5603 - accuracy: 0.7762 - val_loss: 0.6475 - val_accuracy: 0.7497 - lr: 1.0000e-05\n",
      "Epoch 73/100\n",
      "479/479 [==============================] - ETA: 0s - loss: 0.5599 - accuracy: 0.7772\n",
      "Epoch 73: val_loss did not improve from 0.64501\n",
      "479/479 [==============================] - 24s 50ms/step - loss: 0.5599 - accuracy: 0.7772 - val_loss: 0.6472 - val_accuracy: 0.7494 - lr: 1.0000e-05\n",
      "Epoch 74/100\n",
      "478/479 [============================>.] - ETA: 0s - loss: 0.5694 - accuracy: 0.7750\n",
      "Epoch 74: val_loss did not improve from 0.64501\n",
      "479/479 [==============================] - 24s 50ms/step - loss: 0.5693 - accuracy: 0.7749 - val_loss: 0.6469 - val_accuracy: 0.7471 - lr: 1.0000e-05\n",
      "Epoch 75/100\n",
      "478/479 [============================>.] - ETA: 0s - loss: 0.5669 - accuracy: 0.7777\n",
      "Epoch 75: val_loss did not improve from 0.64501\n",
      "479/479 [==============================] - 24s 51ms/step - loss: 0.5667 - accuracy: 0.7777 - val_loss: 0.6467 - val_accuracy: 0.7481 - lr: 1.0000e-05\n",
      "Epoch 76/100\n",
      "479/479 [==============================] - ETA: 0s - loss: 0.5674 - accuracy: 0.7737\n",
      "Epoch 76: val_loss did not improve from 0.64501\n",
      "479/479 [==============================] - 24s 51ms/step - loss: 0.5674 - accuracy: 0.7737 - val_loss: 0.6467 - val_accuracy: 0.7484 - lr: 1.0000e-05\n",
      "Epoch 77/100\n",
      "478/479 [============================>.] - ETA: 0s - loss: 0.5713 - accuracy: 0.7733\n",
      "Epoch 77: val_loss did not improve from 0.64501\n",
      "479/479 [==============================] - 24s 50ms/step - loss: 0.5722 - accuracy: 0.7728 - val_loss: 0.6462 - val_accuracy: 0.7486 - lr: 1.0000e-05\n",
      "Epoch 78/100\n",
      "478/479 [============================>.] - ETA: 0s - loss: 0.5737 - accuracy: 0.7712\n",
      "Epoch 78: val_loss did not improve from 0.64501\n",
      "479/479 [==============================] - 24s 49ms/step - loss: 0.5737 - accuracy: 0.7711 - val_loss: 0.6454 - val_accuracy: 0.7492 - lr: 1.0000e-05\n",
      "Epoch 79/100\n",
      "479/479 [==============================] - ETA: 0s - loss: 0.5665 - accuracy: 0.7767\n",
      "Epoch 79: val_loss did not improve from 0.64501\n",
      "479/479 [==============================] - 24s 49ms/step - loss: 0.5665 - accuracy: 0.7767 - val_loss: 0.6455 - val_accuracy: 0.7505 - lr: 1.0000e-05\n",
      "Epoch 80/100\n",
      "479/479 [==============================] - ETA: 0s - loss: 0.5658 - accuracy: 0.7769\n",
      "Epoch 80: val_loss did not improve from 0.64501\n",
      "479/479 [==============================] - 24s 49ms/step - loss: 0.5658 - accuracy: 0.7769 - val_loss: 0.6459 - val_accuracy: 0.7497 - lr: 1.0000e-05\n",
      "Epoch 81/100\n",
      "479/479 [==============================] - ETA: 0s - loss: 0.5691 - accuracy: 0.7736\n",
      "Epoch 81: val_loss did not improve from 0.64501\n",
      "479/479 [==============================] - 24s 49ms/step - loss: 0.5691 - accuracy: 0.7736 - val_loss: 0.6451 - val_accuracy: 0.7492 - lr: 1.0000e-05\n",
      "Epoch 82/100\n",
      "479/479 [==============================] - ETA: 0s - loss: 0.5660 - accuracy: 0.7747\n",
      "Epoch 82: val_loss improved from 0.64501 to 0.64474, saving model to checkpoint\\\n"
     ]
    },
    {
     "name": "stderr",
     "output_type": "stream",
     "text": [
      "WARNING:absl:Found untraced functions such as _jit_compiled_convolution_op, _jit_compiled_convolution_op, _jit_compiled_convolution_op, _jit_compiled_convolution_op, _jit_compiled_convolution_op while saving (showing 5 of 7). These functions will not be directly callable after loading.\n"
     ]
    },
    {
     "name": "stdout",
     "output_type": "stream",
     "text": [
      "INFO:tensorflow:Assets written to: checkpoint\\assets\n"
     ]
    },
    {
     "name": "stderr",
     "output_type": "stream",
     "text": [
      "INFO:tensorflow:Assets written to: checkpoint\\assets\n"
     ]
    },
    {
     "name": "stdout",
     "output_type": "stream",
     "text": [
      "479/479 [==============================] - 26s 55ms/step - loss: 0.5660 - accuracy: 0.7747 - val_loss: 0.6447 - val_accuracy: 0.7497 - lr: 1.0000e-05\n",
      "Epoch 83/100\n",
      "478/479 [============================>.] - ETA: 0s - loss: 0.5547 - accuracy: 0.7772\n",
      "Epoch 83: val_loss improved from 0.64474 to 0.64456, saving model to checkpoint\\\n"
     ]
    },
    {
     "name": "stderr",
     "output_type": "stream",
     "text": [
      "WARNING:absl:Found untraced functions such as _jit_compiled_convolution_op, _jit_compiled_convolution_op, _jit_compiled_convolution_op, _jit_compiled_convolution_op, _jit_compiled_convolution_op while saving (showing 5 of 7). These functions will not be directly callable after loading.\n"
     ]
    },
    {
     "name": "stdout",
     "output_type": "stream",
     "text": [
      "INFO:tensorflow:Assets written to: checkpoint\\assets\n"
     ]
    },
    {
     "name": "stderr",
     "output_type": "stream",
     "text": [
      "INFO:tensorflow:Assets written to: checkpoint\\assets\n"
     ]
    },
    {
     "name": "stdout",
     "output_type": "stream",
     "text": [
      "479/479 [==============================] - 26s 54ms/step - loss: 0.5550 - accuracy: 0.7770 - val_loss: 0.6446 - val_accuracy: 0.7494 - lr: 1.0000e-05\n",
      "Epoch 84/100\n",
      "479/479 [==============================] - ETA: 0s - loss: 0.5632 - accuracy: 0.7781\n",
      "Epoch 84: val_loss did not improve from 0.64456\n",
      "479/479 [==============================] - 24s 50ms/step - loss: 0.5632 - accuracy: 0.7781 - val_loss: 0.6448 - val_accuracy: 0.7494 - lr: 1.0000e-05\n",
      "Epoch 85/100\n",
      "479/479 [==============================] - ETA: 0s - loss: 0.5585 - accuracy: 0.7785\n",
      "Epoch 85: val_loss improved from 0.64456 to 0.64424, saving model to checkpoint\\\n"
     ]
    },
    {
     "name": "stderr",
     "output_type": "stream",
     "text": [
      "WARNING:absl:Found untraced functions such as _jit_compiled_convolution_op, _jit_compiled_convolution_op, _jit_compiled_convolution_op, _jit_compiled_convolution_op, _jit_compiled_convolution_op while saving (showing 5 of 7). These functions will not be directly callable after loading.\n"
     ]
    },
    {
     "name": "stdout",
     "output_type": "stream",
     "text": [
      "INFO:tensorflow:Assets written to: checkpoint\\assets\n"
     ]
    },
    {
     "name": "stderr",
     "output_type": "stream",
     "text": [
      "INFO:tensorflow:Assets written to: checkpoint\\assets\n"
     ]
    },
    {
     "name": "stdout",
     "output_type": "stream",
     "text": [
      "479/479 [==============================] - 26s 54ms/step - loss: 0.5585 - accuracy: 0.7785 - val_loss: 0.6442 - val_accuracy: 0.7494 - lr: 1.0000e-05\n",
      "Epoch 86/100\n",
      "479/479 [==============================] - ETA: 0s - loss: 0.5581 - accuracy: 0.7790\n",
      "Epoch 86: val_loss did not improve from 0.64424\n",
      "479/479 [==============================] - 24s 49ms/step - loss: 0.5581 - accuracy: 0.7790 - val_loss: 0.6449 - val_accuracy: 0.7499 - lr: 1.0000e-05\n",
      "Epoch 87/100\n",
      "479/479 [==============================] - ETA: 0s - loss: 0.5550 - accuracy: 0.7796\n",
      "Epoch 87: val_loss did not improve from 0.64424\n",
      "479/479 [==============================] - 24s 50ms/step - loss: 0.5550 - accuracy: 0.7796 - val_loss: 0.6455 - val_accuracy: 0.7505 - lr: 1.0000e-05\n",
      "Epoch 88/100\n",
      "479/479 [==============================] - ETA: 0s - loss: 0.5579 - accuracy: 0.7769\n",
      "Epoch 88: val_loss did not improve from 0.64424\n",
      "479/479 [==============================] - 25s 51ms/step - loss: 0.5579 - accuracy: 0.7769 - val_loss: 0.6460 - val_accuracy: 0.7494 - lr: 1.0000e-05\n",
      "Epoch 89/100\n",
      "479/479 [==============================] - ETA: 0s - loss: 0.5612 - accuracy: 0.7758\n",
      "Epoch 89: val_loss did not improve from 0.64424\n",
      "479/479 [==============================] - 24s 50ms/step - loss: 0.5612 - accuracy: 0.7758 - val_loss: 0.6455 - val_accuracy: 0.7502 - lr: 1.0000e-05\n",
      "Epoch 90/100\n",
      "479/479 [==============================] - ETA: 0s - loss: 0.5613 - accuracy: 0.7753\n",
      "Epoch 90: val_loss did not improve from 0.64424\n",
      "479/479 [==============================] - 25s 52ms/step - loss: 0.5613 - accuracy: 0.7753 - val_loss: 0.6456 - val_accuracy: 0.7502 - lr: 1.0000e-05\n",
      "Epoch 91/100\n",
      "478/479 [============================>.] - ETA: 0s - loss: 0.5610 - accuracy: 0.7760\n",
      "Epoch 91: val_loss did not improve from 0.64424\n",
      "479/479 [==============================] - 24s 51ms/step - loss: 0.5612 - accuracy: 0.7759 - val_loss: 0.6454 - val_accuracy: 0.7499 - lr: 1.0000e-05\n",
      "Epoch 92/100\n",
      "478/479 [============================>.] - ETA: 0s - loss: 0.5599 - accuracy: 0.7766\n",
      "Epoch 92: val_loss did not improve from 0.64424\n",
      "479/479 [==============================] - 24s 50ms/step - loss: 0.5606 - accuracy: 0.7766 - val_loss: 0.6448 - val_accuracy: 0.7512 - lr: 1.0000e-05\n",
      "Epoch 93/100\n",
      "478/479 [============================>.] - ETA: 0s - loss: 0.5571 - accuracy: 0.7799\n",
      "Epoch 93: val_loss did not improve from 0.64424\n",
      "479/479 [==============================] - 24s 50ms/step - loss: 0.5572 - accuracy: 0.7799 - val_loss: 0.6457 - val_accuracy: 0.7515 - lr: 1.0000e-05\n",
      "Epoch 94/100\n",
      "479/479 [==============================] - ETA: 0s - loss: 0.5663 - accuracy: 0.7723\n",
      "Epoch 94: val_loss did not improve from 0.64424\n",
      "479/479 [==============================] - 24s 51ms/step - loss: 0.5663 - accuracy: 0.7723 - val_loss: 0.6456 - val_accuracy: 0.7502 - lr: 1.0000e-05\n",
      "Epoch 95/100\n",
      "479/479 [==============================] - ETA: 0s - loss: 0.5619 - accuracy: 0.7768\n",
      "Epoch 95: val_loss did not improve from 0.64424\n",
      "479/479 [==============================] - 24s 51ms/step - loss: 0.5619 - accuracy: 0.7768 - val_loss: 0.6447 - val_accuracy: 0.7512 - lr: 1.0000e-05\n",
      "Epoch 96/100\n",
      "478/479 [============================>.] - ETA: 0s - loss: 0.5579 - accuracy: 0.7738\n",
      "Epoch 96: val_loss did not improve from 0.64424\n",
      "479/479 [==============================] - 24s 51ms/step - loss: 0.5576 - accuracy: 0.7740 - val_loss: 0.6449 - val_accuracy: 0.7494 - lr: 1.0000e-05\n",
      "Epoch 97/100\n",
      "479/479 [==============================] - ETA: 0s - loss: 0.5601 - accuracy: 0.7779\n",
      "Epoch 97: val_loss did not improve from 0.64424\n",
      "479/479 [==============================] - 24s 50ms/step - loss: 0.5601 - accuracy: 0.7779 - val_loss: 0.6456 - val_accuracy: 0.7499 - lr: 1.0000e-05\n",
      "Epoch 98/100\n",
      "479/479 [==============================] - ETA: 0s - loss: 0.5576 - accuracy: 0.7799\n",
      "Epoch 98: val_loss did not improve from 0.64424\n",
      "479/479 [==============================] - 24s 51ms/step - loss: 0.5576 - accuracy: 0.7799 - val_loss: 0.6456 - val_accuracy: 0.7505 - lr: 1.0000e-05\n",
      "Epoch 99/100\n",
      "479/479 [==============================] - ETA: 0s - loss: 0.5578 - accuracy: 0.7786\n",
      "Epoch 99: val_loss did not improve from 0.64424\n",
      "479/479 [==============================] - 24s 51ms/step - loss: 0.5578 - accuracy: 0.7786 - val_loss: 0.6452 - val_accuracy: 0.7502 - lr: 1.0000e-05\n",
      "Epoch 100/100\n",
      "479/479 [==============================] - ETA: 0s - loss: 0.5583 - accuracy: 0.7774\n",
      "Epoch 100: val_loss did not improve from 0.64424\n",
      "479/479 [==============================] - 25s 52ms/step - loss: 0.5583 - accuracy: 0.7774 - val_loss: 0.6457 - val_accuracy: 0.7499 - lr: 1.0000e-05\n"
     ]
    }
   ],
   "source": [
    "# Fit the model\n",
    "history = model_1.fit(train_data, epochs=100, callbacks=[reduce_lr, checkpoint_callback], validation_data=val_data)"
   ]
  },
  {
   "cell_type": "markdown",
   "id": "cbb57e88-b3b6-49ac-8a81-77f72fb66e35",
   "metadata": {},
   "source": [
    "# Model Performanace Evaluation"
   ]
  },
  {
   "cell_type": "code",
   "execution_count": 27,
   "id": "27dd7497-14b3-416d-9aff-2389ba1a196a",
   "metadata": {},
   "outputs": [
    {
     "name": "stdout",
     "output_type": "stream",
     "text": [
      "120/120 [==============================] - 2s 18ms/step - loss: 0.6457 - accuracy: 0.7499\n",
      "Test Loss: 0.6457\n",
      "Test Accuracy: 74.99%\n"
     ]
    }
   ],
   "source": [
    "# Evaluate the model\n",
    "test_loss, test_accuracy = model_1.evaluate(val_data)\n",
    "print(f\"Test Loss: {test_loss:.4f}\")\n",
    "print(f\"Test Accuracy: {test_accuracy * 100:.2f}%\")"
   ]
  },
  {
   "cell_type": "code",
   "execution_count": 28,
   "id": "aadd693a-e953-44d9-be16-a51780551cf0",
   "metadata": {},
   "outputs": [
    {
     "data": {
      "image/png": "[encoded data removed]",
      "text/plain": [
       "<Figure size 1200x400 with 2 Axes>"
      ]
     },
     "metadata": {},
     "output_type": "display_data"
    }
   ],
   "source": [
    "plt.figure(figsize=(12, 4))\n",
    "\n",
    "# Plot training & validation accuracy values\n",
    "plt.subplot(1, 2, 1)\n",
    "plt.plot(history.history['accuracy'])\n",
    "plt.plot(history.history['val_accuracy'])\n",
    "plt.suptitle('ResNet152V2 with Balanced Data')\n",
    "plt.title('Model accuracy')\n",
    "plt.xlabel('Epoch')\n",
    "plt.ylabel('Accuracy')\n",
    "plt.legend(['Train', 'Validation'], loc='upper left')\n",
    "\n",
    "# Plot training & validation loss values\n",
    "plt.subplot(1, 2, 2)\n",
    "plt.plot(history.history['loss'])\n",
    "plt.plot(history.history['val_loss'])\n",
    "plt.title('Model loss')\n",
    "plt.xlabel('Epoch')\n",
    "plt.ylabel('Loss')\n",
    "plt.legend(['Train', 'Validation'], loc='upper left')\n",
    "\n",
    "# Save the figures as image files\n",
    "plt.tight_layout()\n",
    "plt.savefig('ResNet152V2_graphs.png')"
   ]
  },
  {
   "cell_type": "code",
   "execution_count": null,
   "id": "46220cc9-c1b6-4721-8002-56b0ee18ba90",
   "metadata": {},
   "outputs": [],
   "source": []
  }
 ],
 "metadata": {
  "kernelspec": {
   "display_name": "Python 3 (ipykernel)",
   "language": "python",
   "name": "python3"
  },
  "language_info": {
   "codemirror_mode": {
    "name": "ipython",
    "version": 3
   },
   "file_extension": ".py",
   "mimetype": "text/x-python",
   "name": "python",
   "nbconvert_exporter": "python",
   "pygments_lexer": "ipython3",
   "version": "3.9.13"
  }
 },
 "nbformat": 4,
 "nbformat_minor": 5
}
